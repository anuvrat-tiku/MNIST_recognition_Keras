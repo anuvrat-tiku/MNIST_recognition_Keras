{
 "cells": [
  {
   "cell_type": "code",
   "execution_count": 1,
   "metadata": {},
   "outputs": [
    {
     "name": "stderr",
     "output_type": "stream",
     "text": [
      "/home/ubuntu/anaconda3/envs/tensorflow_p36/lib/python3.6/site-packages/h5py/__init__.py:36: FutureWarning: Conversion of the second argument of issubdtype from `float` to `np.floating` is deprecated. In future, it will be treated as `np.float64 == np.dtype(float).type`.\n",
      "  from ._conv import register_converters as _register_converters\n",
      "Using TensorFlow backend.\n"
     ]
    }
   ],
   "source": [
    "import keras\n",
    "import numpy as np"
   ]
  },
  {
   "cell_type": "code",
   "execution_count": 2,
   "metadata": {},
   "outputs": [
    {
     "name": "stdout",
     "output_type": "stream",
     "text": [
      "Downloading data from https://s3.amazonaws.com/img-datasets/mnist.npz\n",
      "11493376/11490434 [==============================] - 0s 0us/step\n"
     ]
    }
   ],
   "source": [
    "# Import the MNIST Dataset\n",
    "from keras.datasets import mnist\n",
    "(X_train, y_train), (X_test, y_test) = mnist.load_data()"
   ]
  },
  {
   "cell_type": "code",
   "execution_count": 3,
   "metadata": {},
   "outputs": [
    {
     "name": "stderr",
     "output_type": "stream",
     "text": [
      "/home/ubuntu/anaconda3/envs/tensorflow_p36/lib/python3.6/site-packages/matplotlib/font_manager.py:278: UserWarning: Matplotlib is building the font cache using fc-list. This may take a moment.\n",
      "  'Matplotlib is building the font cache using fc-list. '\n"
     ]
    }
   ],
   "source": [
    "import matplotlib.pyplot as plt\n",
    "%matplotlib inline\n",
    "import matplotlib.cm as cm"
   ]
  },
  {
   "cell_type": "code",
   "execution_count": 7,
   "metadata": {},
   "outputs": [
    {
     "data": {
      "image/png": "[encoded data removed]",
      "text/plain": [
       "<Figure size 720x720 with 6 Axes>"
      ]
     },
     "metadata": {},
     "output_type": "display_data"
    }
   ],
   "source": [
    "# Visualize the first 5 digits\n",
    "# Matplotlib subplot(nrows, ncols, index, **kwargs)\n",
    "fig = plt.figure(figsize = (10, 10))\n",
    "for i in range(6):\n",
    "    ax = fig.add_subplot(1, 6, i+1, xticks = [], yticks = [])\n",
    "    ax.imshow(X_train[i], cmap = 'gray')\n",
    "    ax.set_title(str(y_train[i]))"
   ]
  },
  {
   "cell_type": "code",
   "execution_count": 10,
   "metadata": {},
   "outputs": [
    {
     "name": "stdout",
     "output_type": "stream",
     "text": [
      "Shape of 1 image (28, 28)\n",
      "Shape of input training samples (60000, 28, 28)\n",
      "array([[  0,   0,   0,   0,   0,   0,   0,   0,   0,   0,   0,   0,   0,\n",
      "          0,   0,   0,   0,   0,   0,   0,   0,   0,   0,   0,   0,   0,\n",
      "          0,   0],\n",
      "       [  0,   0,   0,   0,   0,   0,   0,   0,   0,   0,   0,   0,   0,\n",
      "          0,   0,   0,   0,   0,   0,   0,   0,   0,   0,   0,   0,   0,\n",
      "          0,   0],\n",
      "       [  0,   0,   0,   0,   0,   0,   0,   0,   0,   0,   0,   0,   0,\n",
      "          0,   0,   0,   0,   0,   0,   0,   0,   0,   0,   0,   0,   0,\n",
      "          0,   0],\n",
      "       [  0,   0,   0,   0,   0,   0,   0,   0,   0,   0,   0,   0,   0,\n",
      "          0,   0,   0,   0,   0,   0,   0,   0,   0,   0,   0,   0,   0,\n",
      "          0,   0],\n",
      "       [  0,   0,   0,   0,   0,   0,   0,   0,   0,   0,   0,   0,   0,\n",
      "          0,   0,  51, 159, 253, 159,  50,   0,   0,   0,   0,   0,   0,\n",
      "          0,   0],\n",
      "       [  0,   0,   0,   0,   0,   0,   0,   0,   0,   0,   0,   0,   0,\n",
      "          0,  48, 238, 252, 252, 252, 237,   0,   0,   0,   0,   0,   0,\n",
      "          0,   0],\n",
      "       [  0,   0,   0,   0,   0,   0,   0,   0,   0,   0,   0,   0,   0,\n",
      "         54, 227, 253, 252, 239, 233, 252,  57,   6,   0,   0,   0,   0,\n",
      "          0,   0],\n",
      "       [  0,   0,   0,   0,   0,   0,   0,   0,   0,   0,   0,  10,  60,\n",
      "        224, 252, 253, 252, 202,  84, 252, 253, 122,   0,   0,   0,   0,\n",
      "          0,   0],\n",
      "       [  0,   0,   0,   0,   0,   0,   0,   0,   0,   0,   0, 163, 252,\n",
      "        252, 252, 253, 252, 252,  96, 189, 253, 167,   0,   0,   0,   0,\n",
      "          0,   0],\n",
      "       [  0,   0,   0,   0,   0,   0,   0,   0,   0,   0,  51, 238, 253,\n",
      "        253, 190, 114, 253, 228,  47,  79, 255, 168,   0,   0,   0,   0,\n",
      "          0,   0],\n",
      "       [  0,   0,   0,   0,   0,   0,   0,   0,   0,  48, 238, 252, 252,\n",
      "        179,  12,  75, 121,  21,   0,   0, 253, 243,  50,   0,   0,   0,\n",
      "          0,   0],\n",
      "       [  0,   0,   0,   0,   0,   0,   0,   0,  38, 165, 253, 233, 208,\n",
      "         84,   0,   0,   0,   0,   0,   0, 253, 252, 165,   0,   0,   0,\n",
      "          0,   0],\n",
      "       [  0,   0,   0,   0,   0,   0,   0,   7, 178, 252, 240,  71,  19,\n",
      "         28,   0,   0,   0,   0,   0,   0, 253, 252, 195,   0,   0,   0,\n",
      "          0,   0],\n",
      "       [  0,   0,   0,   0,   0,   0,   0,  57, 252, 252,  63,   0,   0,\n",
      "          0,   0,   0,   0,   0,   0,   0, 253, 252, 195,   0,   0,   0,\n",
      "          0,   0],\n",
      "       [  0,   0,   0,   0,   0,   0,   0, 198, 253, 190,   0,   0,   0,\n",
      "          0,   0,   0,   0,   0,   0,   0, 255, 253, 196,   0,   0,   0,\n",
      "          0,   0],\n",
      "       [  0,   0,   0,   0,   0,   0,  76, 246, 252, 112,   0,   0,   0,\n",
      "          0,   0,   0,   0,   0,   0,   0, 253, 252, 148,   0,   0,   0,\n",
      "          0,   0],\n",
      "       [  0,   0,   0,   0,   0,   0,  85, 252, 230,  25,   0,   0,   0,\n",
      "          0,   0,   0,   0,   0,   7, 135, 253, 186,  12,   0,   0,   0,\n",
      "          0,   0],\n",
      "       [  0,   0,   0,   0,   0,   0,  85, 252, 223,   0,   0,   0,   0,\n",
      "          0,   0,   0,   0,   7, 131, 252, 225,  71,   0,   0,   0,   0,\n",
      "          0,   0],\n",
      "       [  0,   0,   0,   0,   0,   0,  85, 252, 145,   0,   0,   0,   0,\n",
      "          0,   0,   0,  48, 165, 252, 173,   0,   0,   0,   0,   0,   0,\n",
      "          0,   0],\n",
      "       [  0,   0,   0,   0,   0,   0,  86, 253, 225,   0,   0,   0,   0,\n",
      "          0,   0, 114, 238, 253, 162,   0,   0,   0,   0,   0,   0,   0,\n",
      "          0,   0],\n",
      "       [  0,   0,   0,   0,   0,   0,  85, 252, 249, 146,  48,  29,  85,\n",
      "        178, 225, 253, 223, 167,  56,   0,   0,   0,   0,   0,   0,   0,\n",
      "          0,   0],\n",
      "       [  0,   0,   0,   0,   0,   0,  85, 252, 252, 252, 229, 215, 252,\n",
      "        252, 252, 196, 130,   0,   0,   0,   0,   0,   0,   0,   0,   0,\n",
      "          0,   0],\n",
      "       [  0,   0,   0,   0,   0,   0,  28, 199, 252, 252, 253, 252, 252,\n",
      "        233, 145,   0,   0,   0,   0,   0,   0,   0,   0,   0,   0,   0,\n",
      "          0,   0],\n",
      "       [  0,   0,   0,   0,   0,   0,   0,  25, 128, 252, 253, 252, 141,\n",
      "         37,   0,   0,   0,   0,   0,   0,   0,   0,   0,   0,   0,   0,\n",
      "          0,   0],\n",
      "       [  0,   0,   0,   0,   0,   0,   0,   0,   0,   0,   0,   0,   0,\n",
      "          0,   0,   0,   0,   0,   0,   0,   0,   0,   0,   0,   0,   0,\n",
      "          0,   0],\n",
      "       [  0,   0,   0,   0,   0,   0,   0,   0,   0,   0,   0,   0,   0,\n",
      "          0,   0,   0,   0,   0,   0,   0,   0,   0,   0,   0,   0,   0,\n",
      "          0,   0],\n",
      "       [  0,   0,   0,   0,   0,   0,   0,   0,   0,   0,   0,   0,   0,\n",
      "          0,   0,   0,   0,   0,   0,   0,   0,   0,   0,   0,   0,   0,\n",
      "          0,   0],\n",
      "       [  0,   0,   0,   0,   0,   0,   0,   0,   0,   0,   0,   0,   0,\n",
      "          0,   0,   0,   0,   0,   0,   0,   0,   0,   0,   0,   0,   0,\n",
      "          0,   0]], dtype=uint8)\n"
     ]
    }
   ],
   "source": [
    "# Analyze an image\n",
    "import pprint\n",
    "print (\"Shape of 1 image\", X_train[1].shape)\n",
    "print (\"Shape of input training samples\", X_train.shape)\n",
    "pprint.pprint(X_train[1])"
   ]
  },
  {
   "cell_type": "code",
   "execution_count": 11,
   "metadata": {},
   "outputs": [],
   "source": [
    "# Rescale the X_train and X_test so that it is normalized between 0 and 1\n",
    "X_train = X_train.astype('float32')/255\n",
    "X_test = X_test.astype('float32')/255"
   ]
  },
  {
   "cell_type": "code",
   "execution_count": 13,
   "metadata": {},
   "outputs": [
    {
     "name": "stdout",
     "output_type": "stream",
     "text": [
      "2\n",
      "Shape of one label ()\n",
      "Shape of test labels dataset (60000,)\n"
     ]
    }
   ],
   "source": [
    "# Analyse the labels\n",
    "print (y_test[1])\n",
    "print (\"Shape of one label\", y_train[1].shape)\n",
    "print (\"Shape of test labels dataset\", y_train.shape)"
   ]
  },
  {
   "cell_type": "code",
   "execution_count": 24,
   "metadata": {},
   "outputs": [
    {
     "name": "stdout",
     "output_type": "stream",
     "text": [
      "[[0. 0. 0. 0. 0. 1. 0. 0. 0. 0.]\n",
      " [1. 0. 0. 0. 0. 0. 0. 0. 0. 0.]\n",
      " [0. 0. 0. 0. 1. 0. 0. 0. 0. 0.]\n",
      " [0. 1. 0. 0. 0. 0. 0. 0. 0. 0.]\n",
      " [0. 0. 0. 0. 0. 0. 0. 0. 0. 1.]]\n"
     ]
    }
   ],
   "source": [
    "# One hot encode the test labels\n",
    "y_train = keras.utils.np_utils.to_categorical(y_train, 10)\n",
    "y_test = keras.utils.np_utils.to_categorical(y_test, 10)\n",
    "print (y_train[:5])"
   ]
  },
  {
   "cell_type": "markdown",
   "metadata": {},
   "source": [
    "#### Now we have to vectorize the input because the input data is a series of matrices.\n",
    "#### This includes flattening the input matrices.\n",
    "#### Since each input is 28*28, the flat vector length will be 786.\n",
    "#### This means, out input will have 786 nodes.\n",
    "#### We will add 2 hidden layers of 512 nodes each will have a ReLU activation unit.\n",
    "#### To combat overfitting, we will add 2 dropout layers. One between the two hidden layers and the other between hidden and output.\n",
    "#### The output unit will have 10 nodes, each corresponding to one class in the y label."
   ]
  },
  {
   "cell_type": "code",
   "execution_count": 35,
   "metadata": {},
   "outputs": [],
   "source": [
    "from keras.layers import Dense, Flatten, Dropout\n",
    "from keras.models import Sequential"
   ]
  },
  {
   "cell_type": "code",
   "execution_count": 45,
   "metadata": {},
   "outputs": [
    {
     "name": "stdout",
     "output_type": "stream",
     "text": [
      "_________________________________________________________________\n",
      "Layer (type)                 Output Shape              Param #   \n",
      "=================================================================\n",
      "flatten_6 (Flatten)          (None, 784)               0         \n",
      "_________________________________________________________________\n",
      "dense_14 (Dense)             (None, 512)               401920    \n",
      "_________________________________________________________________\n",
      "dropout_7 (Dropout)          (None, 512)               0         \n",
      "_________________________________________________________________\n",
      "dense_15 (Dense)             (None, 512)               262656    \n",
      "_________________________________________________________________\n",
      "dropout_8 (Dropout)          (None, 512)               0         \n",
      "_________________________________________________________________\n",
      "dense_16 (Dense)             (None, 10)                5130      \n",
      "=================================================================\n",
      "Total params: 669,706\n",
      "Trainable params: 669,706\n",
      "Non-trainable params: 0\n",
      "_________________________________________________________________\n"
     ]
    }
   ],
   "source": [
    "# Define the model\n",
    "model = Sequential()\n",
    "model.add(Flatten(input_shape = X_train[1].shape))\n",
    "model.add(Dense(512, activation = 'relu'))\n",
    "model.add(Dropout(0.2))\n",
    "model.add(Dense(512, activation = 'relu'))\n",
    "model.add(Dropout(0.2))\n",
    "model.add(Dense(10, activation = 'softmax'))\n",
    "\n",
    "# Model summary\n",
    "model.summary()"
   ]
  },
  {
   "cell_type": "markdown",
   "metadata": {},
   "source": [
    "#### ReLU helps with the vanishing gradient problem. It leaves all the positive values alone and pushes the negative values to zero."
   ]
  },
  {
   "cell_type": "code",
   "execution_count": 46,
   "metadata": {},
   "outputs": [],
   "source": [
    "# Our loss function is categorical cross entropy\n",
    "# Optimizer = rmsprop\n",
    "# Evaluation metric = accuracy\n",
    "model.compile(loss = 'categorical_crossentropy', optimizer = 'rmsprop', metrics = ['accuracy'])"
   ]
  },
  {
   "cell_type": "code",
   "execution_count": 48,
   "metadata": {},
   "outputs": [
    {
     "name": "stdout",
     "output_type": "stream",
     "text": [
      "Test accuracy:  11.57 %\n"
     ]
    }
   ],
   "source": [
    "# Evaluate test accuracy BEFORE TRAINING\n",
    "score = model.evaluate(X_test, y_test, verbose = 0)\n",
    "accuracy = 100 * score[1]\n",
    "print ('Test accuracy: ', accuracy, \"%\")"
   ]
  },
  {
   "cell_type": "markdown",
   "metadata": {},
   "source": [
    "### Train the model\n",
    "#### We will be using a validation set in the training phase. This is not the testing set. The validation set is only used to calculate how well we are doing in the training phase. The validation data is not used to update the weights (not used in the backprop calculations). The reason for using a validation set is that the testing set is truly what the model has never seen before and can be used for actual evaluation after training."
   ]
  },
  {
   "cell_type": "code",
   "execution_count": 51,
   "metadata": {},
   "outputs": [
    {
     "name": "stdout",
     "output_type": "stream",
     "text": [
      "Train on 48000 samples, validate on 12000 samples\n",
      "Epoch 1/10\n",
      "48000/48000 [==============================] - 2s 42us/step - loss: 0.1114 - acc: 0.9668 - val_loss: 0.0941 - val_acc: 0.9729\n",
      "\n",
      "Epoch 00001: val_loss improved from inf to 0.09409, saving model to MNIST_Keras_best.hdf5\n",
      "Epoch 2/10\n",
      "48000/48000 [==============================] - 2s 43us/step - loss: 0.0784 - acc: 0.9769 - val_loss: 0.0894 - val_acc: 0.9741\n",
      "\n",
      "Epoch 00002: val_loss improved from 0.09409 to 0.08945, saving model to MNIST_Keras_best.hdf5\n",
      "Epoch 3/10\n",
      "48000/48000 [==============================] - 2s 42us/step - loss: 0.0622 - acc: 0.9810 - val_loss: 0.0937 - val_acc: 0.9745\n",
      "\n",
      "Epoch 00003: val_loss did not improve from 0.08945\n",
      "Epoch 4/10\n",
      "48000/48000 [==============================] - 2s 42us/step - loss: 0.0529 - acc: 0.9841 - val_loss: 0.0923 - val_acc: 0.9769\n",
      "\n",
      "Epoch 00004: val_loss did not improve from 0.08945\n",
      "Epoch 5/10\n",
      "48000/48000 [==============================] - 2s 42us/step - loss: 0.0441 - acc: 0.9865 - val_loss: 0.1035 - val_acc: 0.9751\n",
      "\n",
      "Epoch 00005: val_loss did not improve from 0.08945\n",
      "Epoch 6/10\n",
      "48000/48000 [==============================] - 2s 43us/step - loss: 0.0380 - acc: 0.9886 - val_loss: 0.0892 - val_acc: 0.9800\n",
      "\n",
      "Epoch 00006: val_loss improved from 0.08945 to 0.08919, saving model to MNIST_Keras_best.hdf5\n",
      "Epoch 7/10\n",
      "48000/48000 [==============================] - 2s 43us/step - loss: 0.0339 - acc: 0.9896 - val_loss: 0.1146 - val_acc: 0.9766\n",
      "\n",
      "Epoch 00007: val_loss did not improve from 0.08919\n",
      "Epoch 8/10\n",
      "48000/48000 [==============================] - 2s 44us/step - loss: 0.0295 - acc: 0.9910 - val_loss: 0.1125 - val_acc: 0.9779\n",
      "\n",
      "Epoch 00008: val_loss did not improve from 0.08919\n",
      "Epoch 9/10\n",
      "48000/48000 [==============================] - 2s 43us/step - loss: 0.0262 - acc: 0.9917 - val_loss: 0.1115 - val_acc: 0.9773\n",
      "\n",
      "Epoch 00009: val_loss did not improve from 0.08919\n",
      "Epoch 10/10\n",
      "48000/48000 [==============================] - 2s 44us/step - loss: 0.0263 - acc: 0.9924 - val_loss: 0.1077 - val_acc: 0.9806\n",
      "\n",
      "Epoch 00010: val_loss did not improve from 0.08919\n"
     ]
    }
   ],
   "source": [
    "from keras.callbacks import ModelCheckpoint\n",
    "\n",
    "# Train the model\n",
    "# 20 % will be removed from training set and used as a validation set.\n",
    "# The model checkpoint class permits us to save the model weights after each epoch.\n",
    "# filepath is where we like to save the weights.\n",
    "# When we set verbose = 1, the text output during the training process will let us know when the weights file is updated.\n",
    "# After creating the checkpointer, it is passed to the model as a parameter. \n",
    "\n",
    "checkpointer = ModelCheckpoint(filepath = 'MNIST_Keras_best.hdf5', verbose = 1, save_best_only = True)\n",
    "hist = model.fit(X_train, y_train, batch_size = 128, epochs = 10, validation_split = 0.2, \n",
    "                 callbacks = [checkpointer], verbose = 1, shuffle = True)"
   ]
  },
  {
   "cell_type": "code",
   "execution_count": 53,
   "metadata": {},
   "outputs": [
    {
     "name": "stdout",
     "output_type": "stream",
     "text": [
      "Test accuracy after training : 98.2 %\n"
     ]
    }
   ],
   "source": [
    "# Evaluate the model again\n",
    "score = model.evaluate(X_test, y_test, verbose = 0)\n",
    "accuracy = score[1] * 100\n",
    "\n",
    "# Print\n",
    "print (\"Test accuracy after training :\", accuracy, \"%\")"
   ]
  },
  {
   "cell_type": "code",
   "execution_count": null,
   "metadata": {},
   "outputs": [],
   "source": []
  }
 ],
 "metadata": {
  "kernelspec": {
   "display_name": "Python 3",
   "language": "python",
   "name": "python3"
  },
  "language_info": {
   "codemirror_mode": {
    "name": "ipython",
    "version": 3
   },
   "file_extension": ".py",
   "mimetype": "text/x-python",
   "name": "python",
   "nbconvert_exporter": "python",
   "pygments_lexer": "ipython3",
   "version": "3.6.4"
  }
 },
 "nbformat": 4,
 "nbformat_minor": 2
}
